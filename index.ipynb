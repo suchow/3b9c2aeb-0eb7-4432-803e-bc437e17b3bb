{
 "cells": [
  {
   "cell_type": "code",
   "execution_count": 1,
   "metadata": {
    "collapsed": false,
    "inputHidden": false,
    "outputHidden": false
   },
   "outputs": [],
   "source": [
    "import dallinger as dlgr\n",
    "\n",
    "data = dlgr.data.load(\"3b9c2aeb-0eb7-4432-803e-bc437e17b3bb\")"
   ]
  }
 ],
 "metadata": {
  "gist_id": "5b2a9370f7fd6eb217c51f1c3c5ebfcf",
  "kernel_info": {
   "name": "python2"
  },
  "kernelspec": {
   "display_name": "Python 2",
   "language": "python",
   "name": "python2"
  },
  "language_info": {
   "codemirror_mode": {
    "name": "ipython",
    "version": 2
   },
   "file_extension": ".py",
   "mimetype": "text/x-python",
   "name": "python",
   "nbconvert_exporter": "python",
   "pygments_lexer": "ipython2",
   "version": "2.7.13"
  }
 },
 "nbformat": 4,
 "nbformat_minor": 4
}
